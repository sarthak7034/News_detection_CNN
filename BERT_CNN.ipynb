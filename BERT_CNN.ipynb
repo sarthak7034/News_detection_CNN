{
 "cells": [
  {
   "cell_type": "code",
   "execution_count": 19,
   "metadata": {},
   "outputs": [
    {
     "data": {
      "text/plain": [
       "2049"
      ]
     },
     "execution_count": 19,
     "metadata": {},
     "output_type": "execute_result"
    }
   ],
   "source": [
    "import gc\n",
    "gc.collect()"
   ]
  },
  {
   "cell_type": "code",
   "execution_count": 20,
   "metadata": {},
   "outputs": [],
   "source": [
    "from matplotlib import pyplot as plt\n",
    "# from matplotlib import style\n",
    "import pandas as pd\n",
    "import numpy as np\n",
    "import swifter\n",
    "from sklearn import metrics\n",
    "from sklearn.metrics import accuracy_score, confusion_matrix, classification_report\n",
    "import itertools\n",
    "from sklearn.preprocessing import LabelBinarizer, MinMaxScaler\n",
    "from sklearn.model_selection import train_test_split\n",
    "import re\n",
    "from nltk.tokenize import RegexpTokenizer\n",
    "from nltk.corpus import stopwords\n",
    "import nltk\n",
    "# import spacy \n",
    "from nltk.stem import WordNetLemmatizer\n",
    "from tensorflow.keras.preprocessing.sequence import pad_sequences\n",
    "from tensorflow import keras as k\n",
    "import tensorflow as tf\n",
    "# import torch\n",
    "from scipy import stats\n",
    "import seaborn as sns\n",
    "from numpy.random import seed\n",
    "import tensorflow_hub as hub\n",
    "\n",
    "from gensim.models import KeyedVectors\n",
    "from transformers import AutoModel, BertTokenizerFast,BertTokenizer, BertModel\n",
    "\n",
    "lemmatizer = WordNetLemmatizer()\n",
    "scaler = MinMaxScaler(feature_range=(0, 1))\n",
    "\n"
   ]
  },
  {
   "cell_type": "code",
   "execution_count": 21,
   "metadata": {},
   "outputs": [
    {
     "name": "stderr",
     "output_type": "stream",
     "text": [
      "[nltk_data] Downloading package stopwords to\n",
      "[nltk_data]     /home/users/s/sarthak_7034/nltk_data...\n",
      "[nltk_data]   Package stopwords is already up-to-date!\n",
      "[nltk_data] Downloading package wordnet to\n",
      "[nltk_data]     /home/users/s/sarthak_7034/nltk_data...\n",
      "[nltk_data]   Package wordnet is already up-to-date!\n",
      "[nltk_data] Downloading package omw-1.4 to\n",
      "[nltk_data]     /home/users/s/sarthak_7034/nltk_data...\n",
      "[nltk_data]   Package omw-1.4 is already up-to-date!\n"
     ]
    },
    {
     "data": {
      "text/plain": [
       "True"
      ]
     },
     "execution_count": 21,
     "metadata": {},
     "output_type": "execute_result"
    }
   ],
   "source": [
    "nltk.download('stopwords')\n",
    "stop_words = stopwords.words('english') \n",
    "nltk.download('wordnet')\n",
    "nltk.download('omw-1.4')"
   ]
  },
  {
   "cell_type": "code",
   "execution_count": 22,
   "metadata": {},
   "outputs": [],
   "source": [
    "#Read dataset\n",
    "data = pd.read_csv(\"./all_data.csv\").drop(\"Unnamed: 0\", axis=1)"
   ]
  },
  {
   "cell_type": "code",
   "execution_count": 23,
   "metadata": {},
   "outputs": [],
   "source": [
    "# nlp = spacy.load(\"en_core_web_sm\", disable=['parser', 'ner'])\n",
    "\n",
    "def clean_text(text):\n",
    "    #Remove URLs\n",
    "    text = re.sub(r\"http\\S+\", \"\", text)\n",
    "    text = re.sub(r'https?://\\S+', '', text) # Remove link\n",
    "    text = re.sub(r'#\\w+', '', text) # Remove hashtag\n",
    "    text = re.sub(r'@\\w+', '', text) # Remove mentions\n",
    "    text = re.sub(r'\\n',' ', text) # Remove line breaks\n",
    "    text = re.sub('\\s+', ' ', text).strip() # Remove leading, trailing, and extra spaces\n",
    "    \n",
    "    # tokenz = [token.lower() for token in text]          #decrease the accuracy %\n",
    "    # doc = nlp(text)\n",
    "    # tokens = [token.lemma_ for token in doc]                 #Spacey\n",
    "\n",
    "    # #Tokenize\n",
    "    # tokenizer = RegexpTokenizer('\\w+|\\$[\\d\\.]+|\\S+')\n",
    "    # tokens = tokenizer.tokenize(tokenz)\n",
    "    \n",
    "    # # remove stopwords\n",
    "    # tokens = [w for w in tokens if not w in stop_words]     # Experiment with removing it!!!\n",
    "\n",
    "    # #Lemmatize\n",
    "    # tokens = [lemmatizer.lemmatize(w) for w in tokens]\n",
    "    # #Remove non alphanumerica characters\n",
    "    # words = [word for word in tokens if word.isalpha()]    \n",
    "\n",
    "    return text"
   ]
  },
  {
   "cell_type": "code",
   "execution_count": 24,
   "metadata": {},
   "outputs": [
    {
     "data": {
      "application/vnd.jupyter.widget-view+json": {
       "model_id": "6c78c3d970964859b56979dfa1296d0b",
       "version_major": 2,
       "version_minor": 0
      },
      "text/plain": [
       "Pandas Apply:   0%|          | 0/20015 [00:00<?, ?it/s]"
      ]
     },
     "metadata": {},
     "output_type": "display_data"
    },
    {
     "data": {
      "application/vnd.jupyter.widget-view+json": {
       "model_id": "f53b0b05e83247fdbcea884627b795b2",
       "version_major": 2,
       "version_minor": 0
      },
      "text/plain": [
       "Pandas Apply:   0%|          | 0/20015 [00:00<?, ?it/s]"
      ]
     },
     "metadata": {},
     "output_type": "display_data"
    }
   ],
   "source": [
    "#Applying lamdba function to clean text\n",
    "data['text'] = data.swifter.apply(lambda row: clean_text(row['text']), axis=1)\n",
    "#Clean title\n",
    "data['title'] = data.swifter.apply(lambda row: clean_text(row['title']), axis=1)"
   ]
  },
  {
   "cell_type": "code",
   "execution_count": 25,
   "metadata": {},
   "outputs": [],
   "source": [
    "#Replacing row with only text\n",
    "data = data[data['title'].str.len() >= 1]\n",
    "data = data[data['text'].str.len() >= 1]"
   ]
  },
  {
   "cell_type": "code",
   "execution_count": 26,
   "metadata": {},
   "outputs": [
    {
     "data": {
      "text/plain": [
       "0        They stood in line at Trump Tower, sometimes u...\n",
       "1        Donald J. Trump <U+2019>s foundation informed ...\n",
       "2        President-elect Donald J. Trump won the White ...\n",
       "3        An investment pitch for a new Texas hotel is t...\n",
       "4        President-elect Donald J. Trump <U+2019>s wife...\n",
       "                               ...                        \n",
       "20010    Most conservatives who oppose marriage equalit...\n",
       "20011    The freshman senator from Georgia quoted scrip...\n",
       "20012    The State Department told the Republican Natio...\n",
       "20013    ADDIS ABABA, Ethiopia <U+2014>President Obama ...\n",
       "20014    Jeb Bush Is Suddenly Attacking Trump. Here's W...\n",
       "Name: text, Length: 20013, dtype: object"
      ]
     },
     "execution_count": 26,
     "metadata": {},
     "output_type": "execute_result"
    }
   ],
   "source": [
    "data['text']"
   ]
  },
  {
   "cell_type": "code",
   "execution_count": 27,
   "metadata": {},
   "outputs": [],
   "source": [
    "data = data[data['text'].map(len) >= 1]\n",
    "#Reset index\n",
    "data = data.reset_index().drop(\"index\", axis=1)"
   ]
  },
  {
   "cell_type": "code",
   "execution_count": 28,
   "metadata": {},
   "outputs": [],
   "source": [
    "df1 = data.loc[:,['anger','anticipation','disgust','fear','joy','sadness','surprise','trust','negative','positive']]"
   ]
  },
  {
   "cell_type": "code",
   "execution_count": 29,
   "metadata": {},
   "outputs": [],
   "source": [
    "#Displaying the new dataset which we will be working with\n",
    "df2 = data.loc[:,['title','text','type']]"
   ]
  },
  {
   "cell_type": "code",
   "execution_count": 30,
   "metadata": {},
   "outputs": [
    {
     "data": {
      "text/html": [
       "<div>\n",
       "<style scoped>\n",
       "    .dataframe tbody tr th:only-of-type {\n",
       "        vertical-align: middle;\n",
       "    }\n",
       "\n",
       "    .dataframe tbody tr th {\n",
       "        vertical-align: top;\n",
       "    }\n",
       "\n",
       "    .dataframe thead th {\n",
       "        text-align: right;\n",
       "    }\n",
       "</style>\n",
       "<table border=\"1\" class=\"dataframe\">\n",
       "  <thead>\n",
       "    <tr style=\"text-align: right;\">\n",
       "      <th></th>\n",
       "      <th>title</th>\n",
       "      <th>text</th>\n",
       "      <th>type</th>\n",
       "      <th>anger</th>\n",
       "      <th>anticipation</th>\n",
       "      <th>disgust</th>\n",
       "      <th>fear</th>\n",
       "      <th>joy</th>\n",
       "      <th>sadness</th>\n",
       "      <th>surprise</th>\n",
       "      <th>trust</th>\n",
       "      <th>negative</th>\n",
       "      <th>positive</th>\n",
       "    </tr>\n",
       "  </thead>\n",
       "  <tbody>\n",
       "    <tr>\n",
       "      <th>0</th>\n",
       "      <td>At Donald Trump&lt;U+2019&gt;s Properties, a Showcas...</td>\n",
       "      <td>They stood in line at Trump Tower, sometimes u...</td>\n",
       "      <td>real</td>\n",
       "      <td>9</td>\n",
       "      <td>21</td>\n",
       "      <td>5</td>\n",
       "      <td>6</td>\n",
       "      <td>20</td>\n",
       "      <td>5</td>\n",
       "      <td>14</td>\n",
       "      <td>30</td>\n",
       "      <td>14</td>\n",
       "      <td>52</td>\n",
       "    </tr>\n",
       "    <tr>\n",
       "      <th>1</th>\n",
       "      <td>Trump Foundation Tells New York It Has Stopped...</td>\n",
       "      <td>Donald J. Trump &lt;U+2019&gt;s foundation informed ...</td>\n",
       "      <td>real</td>\n",
       "      <td>6</td>\n",
       "      <td>7</td>\n",
       "      <td>2</td>\n",
       "      <td>4</td>\n",
       "      <td>4</td>\n",
       "      <td>4</td>\n",
       "      <td>5</td>\n",
       "      <td>9</td>\n",
       "      <td>8</td>\n",
       "      <td>15</td>\n",
       "    </tr>\n",
       "    <tr>\n",
       "      <th>2</th>\n",
       "      <td>Donald Trump Prepares for White House Move, bu...</td>\n",
       "      <td>President-elect Donald J. Trump won the White ...</td>\n",
       "      <td>real</td>\n",
       "      <td>5</td>\n",
       "      <td>19</td>\n",
       "      <td>6</td>\n",
       "      <td>8</td>\n",
       "      <td>15</td>\n",
       "      <td>8</td>\n",
       "      <td>6</td>\n",
       "      <td>26</td>\n",
       "      <td>15</td>\n",
       "      <td>34</td>\n",
       "    </tr>\n",
       "    <tr>\n",
       "      <th>3</th>\n",
       "      <td>Luring Chinese Investors With Trump&lt;U+2019&gt;s N...</td>\n",
       "      <td>An investment pitch for a new Texas hotel is t...</td>\n",
       "      <td>real</td>\n",
       "      <td>11</td>\n",
       "      <td>14</td>\n",
       "      <td>6</td>\n",
       "      <td>10</td>\n",
       "      <td>10</td>\n",
       "      <td>10</td>\n",
       "      <td>6</td>\n",
       "      <td>32</td>\n",
       "      <td>24</td>\n",
       "      <td>43</td>\n",
       "    </tr>\n",
       "    <tr>\n",
       "      <th>4</th>\n",
       "      <td>Melania and Barron Trump Won&lt;U+2019&gt;t Immediat...</td>\n",
       "      <td>President-elect Donald J. Trump &lt;U+2019&gt;s wife...</td>\n",
       "      <td>real</td>\n",
       "      <td>1</td>\n",
       "      <td>12</td>\n",
       "      <td>0</td>\n",
       "      <td>3</td>\n",
       "      <td>6</td>\n",
       "      <td>2</td>\n",
       "      <td>4</td>\n",
       "      <td>14</td>\n",
       "      <td>4</td>\n",
       "      <td>25</td>\n",
       "    </tr>\n",
       "  </tbody>\n",
       "</table>\n",
       "</div>"
      ],
      "text/plain": [
       "                                               title  \\\n",
       "0  At Donald Trump<U+2019>s Properties, a Showcas...   \n",
       "1  Trump Foundation Tells New York It Has Stopped...   \n",
       "2  Donald Trump Prepares for White House Move, bu...   \n",
       "3  Luring Chinese Investors With Trump<U+2019>s N...   \n",
       "4  Melania and Barron Trump Won<U+2019>t Immediat...   \n",
       "\n",
       "                                                text  type  anger  \\\n",
       "0  They stood in line at Trump Tower, sometimes u...  real      9   \n",
       "1  Donald J. Trump <U+2019>s foundation informed ...  real      6   \n",
       "2  President-elect Donald J. Trump won the White ...  real      5   \n",
       "3  An investment pitch for a new Texas hotel is t...  real     11   \n",
       "4  President-elect Donald J. Trump <U+2019>s wife...  real      1   \n",
       "\n",
       "   anticipation  disgust  fear  joy  sadness  surprise  trust  negative  \\\n",
       "0            21        5     6   20        5        14     30        14   \n",
       "1             7        2     4    4        4         5      9         8   \n",
       "2            19        6     8   15        8         6     26        15   \n",
       "3            14        6    10   10       10         6     32        24   \n",
       "4            12        0     3    6        2         4     14         4   \n",
       "\n",
       "   positive  \n",
       "0        52  \n",
       "1        15  \n",
       "2        34  \n",
       "3        43  \n",
       "4        25  "
      ]
     },
     "execution_count": 30,
     "metadata": {},
     "output_type": "execute_result"
    }
   ],
   "source": [
    "df_merge = pd.concat([df2,df1],axis=1)\n",
    "df_merge.head()"
   ]
  },
  {
   "cell_type": "code",
   "execution_count": 31,
   "metadata": {},
   "outputs": [],
   "source": [
    "variable_name = {'fake' : 0 , 'real' : 1 }\n",
    "df_merge['type'] = df_merge['type'].map(variable_name)"
   ]
  },
  {
   "cell_type": "code",
   "execution_count": 32,
   "metadata": {},
   "outputs": [],
   "source": [
    "X_train, X_test, y_train, y_test = train_test_split(\n",
    "    df_merge[['text', 'title','anger','anticipation','disgust','fear','joy','sadness','surprise','trust','negative','positive']], df_merge['type'], test_size=0.2, random_state=42)\n",
    "\n",
    "#Train - valid\n",
    "X_train, X_valid, y_train, y_valid = train_test_split(\n",
    "    X_train, y_train, test_size=0.2, random_state=42)    "
   ]
  },
  {
   "cell_type": "code",
   "execution_count": 33,
   "metadata": {},
   "outputs": [
    {
     "name": "stderr",
     "output_type": "stream",
     "text": [
      "Some weights of the model checkpoint at bert-base-uncased were not used when initializing BertModel: ['cls.seq_relationship.bias', 'cls.predictions.transform.LayerNorm.weight', 'cls.predictions.transform.dense.weight', 'cls.predictions.transform.LayerNorm.bias', 'cls.seq_relationship.weight', 'cls.predictions.decoder.weight', 'cls.predictions.transform.dense.bias', 'cls.predictions.bias']\n",
      "- This IS expected if you are initializing BertModel from the checkpoint of a model trained on another task or with another architecture (e.g. initializing a BertForSequenceClassification model from a BertForPreTraining model).\n",
      "- This IS NOT expected if you are initializing BertModel from the checkpoint of a model that you expect to be exactly identical (initializing a BertForSequenceClassification model from a BertForSequenceClassification model).\n"
     ]
    }
   ],
   "source": [
    "# import BERT-base pretrained model\n",
    "bert = AutoModel.from_pretrained('bert-base-uncased')\n",
    "\n",
    "# Load the BERT tokenizer\n",
    "tokenizer = BertTokenizerFast.from_pretrained('bert-base-uncased')"
   ]
  },
  {
   "cell_type": "code",
   "execution_count": 34,
   "metadata": {},
   "outputs": [],
   "source": [
    "def bert_encode(texts, tokenizer, max_len):\n",
    "    all_tokens = []\n",
    "    all_masks = []\n",
    "    all_segments = []\n",
    "    \n",
    "    for text in texts:\n",
    "        text = tokenizer.tokenize(text)\n",
    "            \n",
    "        text = text[:max_len-2]\n",
    "        input_sequence = [\"[CLS]\"] + text + [\"[SEP]\"]\n",
    "        pad_len = max_len - len(input_sequence)\n",
    "        \n",
    "        tokens = tokenizer.convert_tokens_to_ids(input_sequence)\n",
    "        tokens += [0] * pad_len\n",
    "        pad_masks = [1] * len(input_sequence) + [0] * pad_len\n",
    "        segment_ids = [0] * max_len\n",
    "        \n",
    "        all_tokens.append(tokens)\n",
    "        all_masks.append(pad_masks)\n",
    "        all_segments.append(segment_ids)\n",
    "    \n",
    "    return np.array(all_tokens), np.array(all_masks), np.array(all_segments)"
   ]
  },
  {
   "cell_type": "code",
   "execution_count": 35,
   "metadata": {},
   "outputs": [],
   "source": [
    "# BertTokenizer = bert.bert_tokenization.FullTokenizer\n",
    "bert_layer = hub.KerasLayer(\"https://tfhub.dev/tensorflow/bert_en_uncased_L-12_H-768_A-12/1\",trainable=True)\n",
    "vocabulary_file = bert_layer.resolved_object.vocab_file.asset_path.numpy()\n",
    "to_lower_case = bert_layer.resolved_object.do_lower_case.numpy()\n",
    "tokenizer = BertTokenizer(vocabulary_file, to_lower_case)"
   ]
  },
  {
   "cell_type": "code",
   "execution_count": 36,
   "metadata": {},
   "outputs": [],
   "source": [
    "text_train = bert_encode(X_train.text.values, tokenizer, max_len=320)\n",
    "title_train = bert_encode(X_train.title.values, tokenizer, max_len=10)\n",
    "\n",
    "text_test = bert_encode(X_test.text.values, tokenizer, max_len=320)\n",
    "title_test = bert_encode(X_test.title.values, tokenizer, max_len=10)\n",
    "\n",
    "text_valid = bert_encode(X_valid.text.values, tokenizer, max_len=320)\n",
    "title_valid = bert_encode(X_valid.title.values, tokenizer, max_len=10)"
   ]
  },
  {
   "cell_type": "code",
   "execution_count": 37,
   "metadata": {},
   "outputs": [],
   "source": [
    "dftrain = X_train.iloc[:,2:]\n",
    "MaxMin_df_train = scaler.fit_transform(dftrain)\n",
    "\n",
    "dftest = X_test.iloc[:,2:]\n",
    "MaxMin_df_test = scaler.fit_transform(dftest)\n",
    "\n",
    "dfvalid = X_valid.iloc[:,2:]\n",
    "MaxMin_df_valid = scaler.fit_transform(dfvalid)"
   ]
  },
  {
   "cell_type": "code",
   "execution_count": 38,
   "metadata": {},
   "outputs": [],
   "source": [
    "train_fit = [text_train[0], \n",
    "             title_train[0],\n",
    "             MaxMin_df_train\n",
    "            ]\n",
    "\n",
    "test_fit = [text_test[0], \n",
    "            title_test[0],\n",
    "            MaxMin_df_test\n",
    "            ]    \n",
    "\n",
    "valid_fit = [text_valid[0], \n",
    "             title_valid[0],\n",
    "            MaxMin_df_valid\n",
    "            ]\n"
   ]
  },
  {
   "cell_type": "markdown",
   "metadata": {},
   "source": [
    "## LSTM"
   ]
  },
  {
   "cell_type": "code",
   "execution_count": 116,
   "metadata": {},
   "outputs": [],
   "source": [
    "seed(50)\n",
    "tf.random.set_seed(50)\n",
    "k.backend.clear_session()"
   ]
  },
  {
   "cell_type": "code",
   "execution_count": 117,
   "metadata": {},
   "outputs": [
    {
     "name": "stdout",
     "output_type": "stream",
     "text": [
      "Model: \"model\"\n",
      "__________________________________________________________________________________________________\n",
      " Layer (type)                   Output Shape         Param #     Connected to                     \n",
      "==================================================================================================\n",
      " input_1 (InputLayer)           [(None, 320)]        0           []                               \n",
      "                                                                                                  \n",
      " input_2 (InputLayer)           [(None, 10)]         0           []                               \n",
      "                                                                                                  \n",
      " embedding (Embedding)          (None, 320, 400)     12208800    ['input_1[0][0]']                \n",
      "                                                                                                  \n",
      " embedding_1 (Embedding)        (None, 10, 400)      12208800    ['input_2[0][0]']                \n",
      "                                                                                                  \n",
      " bidirectional (Bidirectional)  (None, 400)          961600      ['embedding[0][0]']              \n",
      "                                                                                                  \n",
      " bidirectional_1 (Bidirectional  (None, 100)         180400      ['embedding_1[0][0]']            \n",
      " )                                                                                                \n",
      "                                                                                                  \n",
      " input_3 (InputLayer)           [(None, 10)]         0           []                               \n",
      "                                                                                                  \n",
      " concatenate (Concatenate)      (None, 510)          0           ['bidirectional[0][0]',          \n",
      "                                                                  'bidirectional_1[0][0]',        \n",
      "                                                                  'input_3[0][0]']                \n",
      "                                                                                                  \n",
      " dense (Dense)                  (None, 50)           25550       ['concatenate[0][0]']            \n",
      "                                                                                                  \n",
      " dropout (Dropout)              (None, 50)           0           ['dense[0][0]']                  \n",
      "                                                                                                  \n",
      " dense_1 (Dense)                (None, 1)            51          ['dropout[0][0]']                \n",
      "                                                                                                  \n",
      "==================================================================================================\n",
      "Total params: 25,585,201\n",
      "Trainable params: 1,167,601\n",
      "Non-trainable params: 24,417,600\n",
      "__________________________________________________________________________________________________\n"
     ]
    }
   ],
   "source": [
    "#input_Text\n",
    "content_input = k.layers.Input(shape=(320,))\n",
    "inp2 = k.layers.Embedding(input_dim=30522,output_dim=400,trainable=False)(content_input)\n",
    "x2 = k.layers.Bidirectional(k.layers.LSTM(200))(inp2)\n",
    "\n",
    "#input_title\n",
    "title_input = k.layers.Input(shape=(10,))\n",
    "inp = k.layers.Embedding(input_dim=30522,output_dim=400,trainable=False)(title_input)\n",
    "x1 = k.layers.Bidirectional(k.layers.LSTM(50))(inp)\n",
    "\n",
    "#input_sentiments\n",
    "x3 = k.layers.Input(shape=(10,))\n",
    "\n",
    "\n",
    "#Merge\n",
    "x = k.layers.concatenate([x2, x1, x3])\n",
    "# x = k.layers.concatenate([x1, x2])\n",
    "\n",
    "\n",
    "#Common part\n",
    "x = k.layers.Dense(50, activation='relu')(x)\n",
    "x = k.layers.Dropout(0.2)(x)\n",
    "\n",
    "out = k.layers.Dense(1, activation='sigmoid')(x)\n",
    "\n",
    "#Build model\n",
    "# baseline_model = k.models.Model(inputs=[content_input,title_input], outputs=[out])\n",
    "baseline_model = k.models.Model(inputs=[content_input,title_input, x3], outputs=[out])\n",
    "baseline_model.compile(optimizer='adam', loss='binary_crossentropy', metrics=['acc'])\n",
    "\n",
    "baseline_model.summary()"
   ]
  },
  {
   "cell_type": "code",
   "execution_count": 118,
   "metadata": {},
   "outputs": [
    {
     "name": "stdout",
     "output_type": "stream",
     "text": [
      "Epoch 1/10\n",
      "201/201 [==============================] - 118s 553ms/step - loss: 0.5167 - acc: 0.7488 - val_loss: 0.3618 - val_acc: 0.8451\n",
      "Epoch 2/10\n",
      "201/201 [==============================] - 108s 536ms/step - loss: 0.3489 - acc: 0.8499 - val_loss: 0.3036 - val_acc: 0.8676\n"
     ]
    }
   ],
   "source": [
    "history = baseline_model.fit(x=train_fit, y=np.asarray(y_train.tolist()), batch_size = 64,\n",
    "        callbacks = [k.callbacks.EarlyStopping(monitor='val_loss', patience=1,min_delta = 0.1)], \n",
    "                            validation_data=(valid_fit, np.array(y_valid.tolist())), epochs = 10)"
   ]
  },
  {
   "cell_type": "code",
   "execution_count": 119,
   "metadata": {},
   "outputs": [
    {
     "name": "stdout",
     "output_type": "stream",
     "text": [
      "              precision    recall  f1-score   support\n",
      "\n",
      "           0       0.87      0.92      0.90      2406\n",
      "           1       0.87      0.80      0.83      1597\n",
      "\n",
      "    accuracy                           0.87      4003\n",
      "   macro avg       0.87      0.86      0.86      4003\n",
      "weighted avg       0.87      0.87      0.87      4003\n",
      "\n"
     ]
    }
   ],
   "source": [
    "test_pred = baseline_model.predict(test_fit)\n",
    "report = classification_report(np.array(y_test.tolist()), test_pred.round())\n",
    "print(report)"
   ]
  },
  {
   "cell_type": "code",
   "execution_count": 123,
   "metadata": {},
   "outputs": [
    {
     "name": "stdout",
     "output_type": "stream",
     "text": [
      "The accuracy for testing data is 0.5271366235503238\n"
     ]
    }
   ],
   "source": [
    "print(\"The accuracy for testing data is\", np.mean(test_pred.round() == np.array(y_test.tolist())))"
   ]
  },
  {
   "cell_type": "code",
   "execution_count": 126,
   "metadata": {},
   "outputs": [
    {
     "name": "stdout",
     "output_type": "stream",
     "text": [
      "[[2215  191]\n",
      " [ 324 1273]]\n"
     ]
    },
    {
     "data": {
      "text/plain": [
       "<AxesSubplot:>"
      ]
     },
     "execution_count": 126,
     "metadata": {},
     "output_type": "execute_result"
    },
    {
     "data": {
      "image/png": "[encoded data removed]",
      "text/plain": [
       "<Figure size 432x288 with 2 Axes>"
      ]
     },
     "metadata": {
      "needs_background": "light"
     },
     "output_type": "display_data"
    }
   ],
   "source": [
    "matrix = confusion_matrix(np.array(y_test.tolist()), test_pred.round())\n",
    "print(matrix)\n",
    "\n",
    "df_cm = pd.DataFrame(matrix/np.sum(matrix),columns=['fake', 'real'], index=['fake', 'real'] )\n",
    "sns.heatmap(df_cm, annot=True,cmap='Blues', linecolor ='black', linewidths = 1,fmt = '.5g')"
   ]
  },
  {
   "cell_type": "markdown",
   "metadata": {},
   "source": [
    "## CNN"
   ]
  },
  {
   "cell_type": "code",
   "execution_count": 75,
   "metadata": {},
   "outputs": [],
   "source": [
    "seed(50)\n",
    "tf.random.set_seed(50)\n",
    "k.backend.clear_session()"
   ]
  },
  {
   "cell_type": "code",
   "execution_count": 85,
   "metadata": {},
   "outputs": [
    {
     "name": "stdout",
     "output_type": "stream",
     "text": [
      "Model: \"model_1\"\n",
      "__________________________________________________________________________________________________\n",
      " Layer (type)                   Output Shape         Param #     Connected to                     \n",
      "==================================================================================================\n",
      " input_5 (InputLayer)           [(None, 10)]         0           []                               \n",
      "                                                                                                  \n",
      " input_4 (InputLayer)           [(None, 320)]        0           []                               \n",
      "                                                                                                  \n",
      " embedding_3 (Embedding)        (None, 10, 400)      12208800    ['input_5[0][0]']                \n",
      "                                                                                                  \n",
      " embedding_2 (Embedding)        (None, 320, 400)     12208800    ['input_4[0][0]']                \n",
      "                                                                                                  \n",
      " conv1d_3 (Conv1D)              (None, 4, 32)        51232       ['embedding_3[0][0]']            \n",
      "                                                                                                  \n",
      " conv1d_2 (Conv1D)              (None, 160, 64)      51264       ['embedding_2[0][0]']            \n",
      "                                                                                                  \n",
      " max_pooling1d_3 (MaxPooling1D)  (None, 2, 32)       0           ['conv1d_3[0][0]']               \n",
      "                                                                                                  \n",
      " max_pooling1d_2 (MaxPooling1D)  (None, 40, 64)      0           ['conv1d_2[0][0]']               \n",
      "                                                                                                  \n",
      " input_6 (InputLayer)           [(None, 10)]         0           []                               \n",
      "                                                                                                  \n",
      " flatten_4 (Flatten)            (None, 64)           0           ['max_pooling1d_3[0][0]']        \n",
      "                                                                                                  \n",
      " flatten_3 (Flatten)            (None, 2560)         0           ['max_pooling1d_2[0][0]']        \n",
      "                                                                                                  \n",
      " flatten_5 (Flatten)            (None, 10)           0           ['input_6[0][0]']                \n",
      "                                                                                                  \n",
      " dense_6 (Dense)                (None, 50)           3250        ['flatten_4[0][0]']              \n",
      "                                                                                                  \n",
      " dense_5 (Dense)                (None, 100)          256100      ['flatten_3[0][0]']              \n",
      "                                                                                                  \n",
      " dense_7 (Dense)                (None, 10)           110         ['flatten_5[0][0]']              \n",
      "                                                                                                  \n",
      " concatenate_1 (Concatenate)    (None, 160)          0           ['dense_6[0][0]',                \n",
      "                                                                  'dense_5[0][0]',                \n",
      "                                                                  'dense_7[0][0]']                \n",
      "                                                                                                  \n",
      " dropout_2 (Dropout)            (None, 160)          0           ['concatenate_1[0][0]']          \n",
      "                                                                                                  \n",
      " dense_8 (Dense)                (None, 50)           8050        ['dropout_2[0][0]']              \n",
      "                                                                                                  \n",
      " dropout_3 (Dropout)            (None, 50)           0           ['dense_8[0][0]']                \n",
      "                                                                                                  \n",
      " dense_9 (Dense)                (None, 1)            51          ['dropout_3[0][0]']              \n",
      "                                                                                                  \n",
      "==================================================================================================\n",
      "Total params: 24,787,657\n",
      "Trainable params: 370,057\n",
      "Non-trainable params: 24,417,600\n",
      "__________________________________________________________________________________________________\n"
     ]
    }
   ],
   "source": [
    "#input_Text\n",
    "text_input = k.layers.Input(shape=(320,))\n",
    "inp2 = k.layers.Embedding(input_dim=30522,output_dim=400,trainable=False)(text_input)\n",
    "\n",
    "\n",
    "x2 = k.layers.Conv1D(filters = 64, kernel_size = 2, strides = 2, activation='relu')(inp2)\n",
    "x2 = k.layers.MaxPool1D(pool_size = 4)(x2)\n",
    "\n",
    "\n",
    "x2 = k.layers.Flatten()(x2)\n",
    "x2 = k.layers.Dense(100, activation='relu', kernel_regularizer='l2')(x2)\n",
    "\n",
    "#input_title\n",
    "title_input = k.layers.Input(shape=(10,))\n",
    "inp1 = k.layers.Embedding(input_dim=30522,output_dim=400,trainable=False)(title_input)\n",
    "\n",
    "x1 = k.layers.Conv1D(filters = 32, kernel_size=4, strides=2, activation='relu')(inp1)\n",
    "x1 = k.layers.MaxPool1D(pool_size = 2)(x1)\n",
    "x1 = k.layers.Flatten()(x1)\n",
    "x1 = k.layers.Dense(50, activation='relu', kernel_regularizer='l2')(x1)\n",
    "\n",
    "\n",
    "\n",
    "\n",
    "#Sentiments-------------------------------------------------------------------------------------------------------\n",
    "\n",
    "sentiment_input = k.layers.Input(shape=(10,))\n",
    "x3 = k.layers.Flatten()(sentiment_input)\n",
    "x3= k.layers.Dense(10, activation='relu', kernel_regularizer='l2')(x3)\n",
    "\n",
    "#Merge-------------------------------------------------------------------------------------------------------------\n",
    "# x = k.layers.concatenate([x1,x2])\n",
    "x = k.layers.concatenate([x1,x2,x3])\n",
    "x = k.layers.Dropout(0.2)(x)\n",
    "\n",
    "#Common part-------------------------------------------------------------------------------------------------------\n",
    "x = k.layers.Dense(50, activation='relu')(x)\n",
    "x = k.layers.Dropout(0.2)(x)\n",
    "out = k.layers.Dense(1, activation='sigmoid')(x)\n",
    "\n",
    "\n",
    "#Build model\n",
    "# model1 = k.models.Model(inputs=[ text_input,title_input], outputs=[out])\n",
    "model1 = k.models.Model(inputs=[text_input, title_input, sentiment_input], outputs=[out])\n",
    "model1.compile(k.optimizers.RMSprop(), loss='binary_crossentropy', metrics=['acc'])\n",
    "\n",
    "model1.summary()"
   ]
  },
  {
   "cell_type": "code",
   "execution_count": 86,
   "metadata": {},
   "outputs": [
    {
     "name": "stdout",
     "output_type": "stream",
     "text": [
      "Epoch 1/30\n",
      "201/201 [==============================] - 5s 17ms/step - loss: 0.8764 - acc: 0.7147 - val_loss: 0.4887 - val_acc: 0.8132\n",
      "Epoch 2/30\n",
      "201/201 [==============================] - 3s 16ms/step - loss: 0.3650 - acc: 0.8850 - val_loss: 0.3455 - val_acc: 0.8748\n",
      "Epoch 3/30\n",
      "201/201 [==============================] - 3s 15ms/step - loss: 0.2552 - acc: 0.9257 - val_loss: 0.2664 - val_acc: 0.9213\n",
      "Epoch 4/30\n",
      "201/201 [==============================] - 3s 15ms/step - loss: 0.2001 - acc: 0.9481 - val_loss: 0.1981 - val_acc: 0.9438\n",
      "Epoch 5/30\n",
      "201/201 [==============================] - 3s 16ms/step - loss: 0.1575 - acc: 0.9647 - val_loss: 0.2682 - val_acc: 0.9207\n",
      "Epoch 6/30\n",
      "201/201 [==============================] - 3s 16ms/step - loss: 0.1315 - acc: 0.9717 - val_loss: 0.2295 - val_acc: 0.9347\n",
      "Epoch 7/30\n",
      "201/201 [==============================] - 3s 15ms/step - loss: 0.1161 - acc: 0.9765 - val_loss: 0.1902 - val_acc: 0.9472\n"
     ]
    }
   ],
   "source": [
    "history = model1.fit(x=train_fit, y=np.asarray(y_train.tolist()), batch_size=64, epochs=30,\n",
    "        callbacks = [k.callbacks.EarlyStopping(monitor='val_loss', patience=3,min_delta = 0.1)], \n",
    "        validation_data=(valid_fit, np.array(y_valid.tolist()))\n",
    "        )"
   ]
  },
  {
   "cell_type": "code",
   "execution_count": 87,
   "metadata": {},
   "outputs": [
    {
     "name": "stdout",
     "output_type": "stream",
     "text": [
      "              precision    recall  f1-score   support\n",
      "\n",
      "           0       0.97      0.94      0.95      2406\n",
      "           1       0.92      0.95      0.93      1597\n",
      "\n",
      "    accuracy                           0.95      4003\n",
      "   macro avg       0.94      0.95      0.94      4003\n",
      "weighted avg       0.95      0.95      0.95      4003\n",
      "\n"
     ]
    }
   ],
   "source": [
    "test_pred = model1.predict(test_fit)\n",
    "report = classification_report(np.array(y_test.tolist()), test_pred.round())\n",
    "print(report)"
   ]
  },
  {
   "cell_type": "code",
   "execution_count": 88,
   "metadata": {},
   "outputs": [
    {
     "data": {
      "text/plain": [
       "<matplotlib.legend.Legend at 0x7f1b60c7f2b0>"
      ]
     },
     "execution_count": 88,
     "metadata": {},
     "output_type": "execute_result"
    },
    {
     "data": {
      "image/png": "[encoded data removed]",
      "text/plain": [
       "<Figure size 1008x432 with 2 Axes>"
      ]
     },
     "metadata": {
      "needs_background": "light"
     },
     "output_type": "display_data"
    }
   ],
   "source": [
    "history_dict = history.history\n",
    "loss_values = history_dict['loss']\n",
    "val_loss_values = history_dict['val_loss']\n",
    "accuracy = history_dict['acc']\n",
    "val_accuracy = history_dict['val_acc']\n",
    " \n",
    "epochs = range(1, len(loss_values) + 1)\n",
    "fig, ax = plt.subplots(1, 2, figsize=(14, 6))\n",
    "#\n",
    "# Plot the model accuracy vs Epochs\n",
    "#\n",
    "ax[0].plot(epochs, accuracy, 'bo', label='Training accuracy')\n",
    "ax[0].plot(epochs, val_accuracy, 'b', label='Validation accuracy')\n",
    "ax[0].set_title('Training & Validation Accuracy', fontsize=16)\n",
    "ax[0].set_xlabel('Epochs', fontsize=16)\n",
    "ax[0].set_ylabel('Accuracy', fontsize=16)\n",
    "ax[0].legend()\n",
    "#\n",
    "# Plot the loss vs Epochs\n",
    "#\n",
    "ax[1].plot(epochs, loss_values, 'bo', label='Training loss')\n",
    "ax[1].plot(epochs, val_loss_values, 'b', label='Validation loss')\n",
    "ax[1].set_title('Training & Validation Loss', fontsize=16)\n",
    "ax[1].set_xlabel('Epochs', fontsize=16)\n",
    "ax[1].set_ylabel('Loss', fontsize=16)\n",
    "ax[1].legend()"
   ]
  },
  {
   "cell_type": "code",
   "execution_count": 89,
   "metadata": {},
   "outputs": [],
   "source": [
    "# type_bert = y_train.values"
   ]
  },
  {
   "cell_type": "code",
   "execution_count": 90,
   "metadata": {},
   "outputs": [],
   "source": [
    "# from tensorflow import keras as k\n",
    "\n",
    "# def build_model(bert_layer, max_len):\n",
    "#     input_word_ids = k.layers.Input(shape=(max_len,), dtype=tf.int32, name=\"input_word_ids\")\n",
    "#     input_mask = k.layers.Input(shape=(max_len,), dtype=tf.int32, name=\"input_mask\")\n",
    "#     segment_ids = k.layers.Input(shape=(max_len,), dtype=tf.int32, name=\"segment_ids\")\n",
    "\n",
    "#     _, sequence_output = bert_layer([input_word_ids, input_mask, segment_ids])\n",
    "#     clf_output = sequence_output[:, 0, :]\n",
    "#     hidden1 = k.layers.Dense(100, activation='relu')(clf_output)\n",
    "#     hidden2 = k.layers.Dense(50, activation='relu')(hidden1)\n",
    "#     out = k.layers.Dense(1, activation='sigmoid')(hidden2)\n",
    "    \n",
    "#     model = k.models.Model(inputs=[input_word_ids, input_mask, segment_ids], outputs=out)\n",
    "#     model.compile(optimizer='adam', loss='binary_crossentropy', metrics=['accuracy'])\n",
    "    \n",
    "#     return model\n",
    "\n",
    "# model = build_model(bert_layer, max_len=320)\n",
    "# model.summary()    "
   ]
  },
  {
   "cell_type": "code",
   "execution_count": 91,
   "metadata": {},
   "outputs": [],
   "source": [
    "# train_history = model.fit(\n",
    "#     text_train, type_bert,\n",
    "#     validation_split=0.1,\n",
    "#     epochs=2,\n",
    "#     batch_size=16\n",
    "# )"
   ]
  },
  {
   "cell_type": "code",
   "execution_count": 92,
   "metadata": {},
   "outputs": [
    {
     "name": "stdout",
     "output_type": "stream",
     "text": [
      "The accuracy for testing data is 0.5176956028918855\n"
     ]
    }
   ],
   "source": [
    "print(\"The accuracy for testing data is\", np.mean(test_pred.round() == np.array(y_test.tolist())))"
   ]
  },
  {
   "cell_type": "code",
   "execution_count": 115,
   "metadata": {},
   "outputs": [
    {
     "name": "stdout",
     "output_type": "stream",
     "text": [
      "[[2271  135]\n",
      " [  81 1516]]\n"
     ]
    },
    {
     "data": {
      "text/plain": [
       "<AxesSubplot:>"
      ]
     },
     "execution_count": 115,
     "metadata": {},
     "output_type": "execute_result"
    },
    {
     "data": {
      "image/png": "[encoded data removed]",
      "text/plain": [
       "<Figure size 432x288 with 2 Axes>"
      ]
     },
     "metadata": {
      "needs_background": "light"
     },
     "output_type": "display_data"
    }
   ],
   "source": [
    "matrix = confusion_matrix(np.array(y_test.tolist()), test_pred.round())\n",
    "print(matrix)\n",
    "\n",
    "df_cm = pd.DataFrame(matrix,columns=['fake', 'real'], index=['fake', 'real'] )\n",
    "sns.heatmap(df_cm, annot=True, cmap ='Blues', linecolor ='black', linewidths = 1,fmt = '.5g')"
   ]
  }
 ],
 "metadata": {
  "interpreter": {
   "hash": "3c0230b97712d87882b3eeba6845e6dc3f3e7571acdedf5897f36f63bc1255a2"
  },
  "kernelspec": {
   "display_name": "Python 3.9.12 ('base')",
   "language": "python",
   "name": "python3"
  },
  "language_info": {
   "codemirror_mode": {
    "name": "ipython",
    "version": 3
   },
   "file_extension": ".py",
   "mimetype": "text/x-python",
   "name": "python",
   "nbconvert_exporter": "python",
   "pygments_lexer": "ipython3",
   "version": "3.9.12"
  },
  "orig_nbformat": 4
 },
 "nbformat": 4,
 "nbformat_minor": 2
}
