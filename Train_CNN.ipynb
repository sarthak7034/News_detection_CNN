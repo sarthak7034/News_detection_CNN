{
 "cells": [
  {
   "cell_type": "code",
   "execution_count": 1,
   "metadata": {},
   "outputs": [
    {
     "data": {
      "text/plain": [
       "61"
      ]
     },
     "execution_count": 1,
     "metadata": {},
     "output_type": "execute_result"
    }
   ],
   "source": [
    "import gc\n",
    "gc.collect()"
   ]
  },
  {
   "cell_type": "code",
   "execution_count": 18,
   "metadata": {},
   "outputs": [],
   "source": [
    "import pandas as pd\n",
    "import numpy as np\n",
    "from numpy.random import seed\n",
    "import seaborn as sns\n",
    "from matplotlib import pyplot as plt\n",
    "from tensorflow import keras as k\n",
    "import tensorflow as tf\n",
    "from sklearn.metrics import confusion_matrix, classification_report\n",
    "from sklearn.preprocessing import MinMaxScaler\n",
    "from sklearn.model_selection import train_test_split\n",
    "\n",
    "scaler = MinMaxScaler(feature_range=(0, 1))"
   ]
  },
  {
   "cell_type": "code",
   "execution_count": 3,
   "metadata": {},
   "outputs": [],
   "source": [
    "data_pickle = pd.read_pickle('./model_data.pickle')\n",
    "data_pickle = data_pickle.dropna()\n",
    "data_pickle.head()\n",
    "\n",
    "# Check the highest length of text and title:\n",
    "max_tokens_text = 13000\n",
    "max_tokens_title = 48"
   ]
  },
  {
   "cell_type": "code",
   "execution_count": 4,
   "metadata": {},
   "outputs": [],
   "source": [
    "#Train - test\n",
    "X_train, X_test, y_train, y_test = train_test_split(\n",
    "    data_pickle[['text', 'title','anger','anticipation','disgust','fear','joy','sadness','surprise','trust','negative','positive']], data_pickle['type'], test_size=0.2, random_state=42)\n",
    "\n",
    "#Train - valid\n",
    "X_train, X_valid, y_train, y_valid = train_test_split(\n",
    "    X_train, y_train, test_size=0.2, random_state=42)"
   ]
  },
  {
   "cell_type": "code",
   "execution_count": 5,
   "metadata": {},
   "outputs": [],
   "source": [
    "dftrain = X_train.iloc[:,2:]\n",
    "MaxMin_df_train = scaler.fit_transform(dftrain)\n",
    "\n",
    "dftest = X_test.iloc[:,2:]\n",
    "MaxMin_df_test = scaler.fit_transform(dftest)\n",
    "\n",
    "dfvalid = X_valid.iloc[:,2:]\n",
    "MaxMin_df_valid = scaler.fit_transform(dfvalid)"
   ]
  },
  {
   "cell_type": "code",
   "execution_count": 6,
   "metadata": {},
   "outputs": [],
   "source": [
    "train_fit = [np.asarray(X_train['title'].tolist()), \n",
    "             np.asarray(X_train['text'].tolist()),\n",
    "            MaxMin_df_train\n",
    "            ]\n",
    "\n",
    "test_fit = [np.asarray(X_test['title'].tolist()), \n",
    "             np.asarray(X_test['text'].tolist()),\n",
    "            MaxMin_df_test\n",
    "            ]    \n",
    "\n",
    "valid_fit = [np.asarray(X_valid['title'].tolist()), \n",
    "             np.asarray(X_valid['text'].tolist()),\n",
    "            MaxMin_df_valid\n",
    "            ]\n"
   ]
  },
  {
   "cell_type": "markdown",
   "metadata": {},
   "source": [
    "## LSTM"
   ]
  },
  {
   "cell_type": "code",
   "execution_count": 9,
   "metadata": {},
   "outputs": [],
   "source": [
    "seed(50)\n",
    "tf.random.set_seed(50)\n",
    "k.backend.clear_session()"
   ]
  },
  {
   "cell_type": "code",
   "execution_count": 10,
   "metadata": {},
   "outputs": [
    {
     "name": "stderr",
     "output_type": "stream",
     "text": [
      "2022-05-27 10:50:01.335108: W tensorflow/stream_executor/platform/default/dso_loader.cc:64] Could not load dynamic library 'libcuda.so.1'; dlerror: libcuda.so.1: cannot open shared object file: No such file or directory\n",
      "2022-05-27 10:50:01.335143: W tensorflow/stream_executor/cuda/cuda_driver.cc:269] failed call to cuInit: UNKNOWN ERROR (303)\n",
      "2022-05-27 10:50:01.335167: I tensorflow/stream_executor/cuda/cuda_diagnostics.cc:156] kernel driver does not appear to be running on this host (frontend01): /proc/driver/nvidia/version does not exist\n",
      "2022-05-27 10:50:01.336543: I tensorflow/core/platform/cpu_feature_guard.cc:151] This TensorFlow binary is optimized with oneAPI Deep Neural Network Library (oneDNN) to use the following CPU instructions in performance-critical operations:  AVX2 FMA\n",
      "To enable them in other operations, rebuild TensorFlow with the appropriate compiler flags.\n"
     ]
    },
    {
     "name": "stdout",
     "output_type": "stream",
     "text": [
      "Model: \"model\"\n",
      "__________________________________________________________________________________________________\n",
      " Layer (type)                   Output Shape         Param #     Connected to                     \n",
      "==================================================================================================\n",
      " input_1 (InputLayer)           [(None, 48)]         0           []                               \n",
      "                                                                                                  \n",
      " input_2 (InputLayer)           [(None, 13000)]      0           []                               \n",
      "                                                                                                  \n",
      " embedding (Embedding)          (None, 48, 300)      900000000   ['input_1[0][0]']                \n",
      "                                                                                                  \n",
      " embedding_1 (Embedding)        (None, 13000, 300)   900000000   ['input_2[0][0]']                \n",
      "                                                                                                  \n",
      " bidirectional (Bidirectional)  (None, 100)          140400      ['embedding[0][0]']              \n",
      "                                                                                                  \n",
      " bidirectional_1 (Bidirectional  (None, 400)         801600      ['embedding_1[0][0]']            \n",
      " )                                                                                                \n",
      "                                                                                                  \n",
      " input_3 (InputLayer)           [(None, 10)]         0           []                               \n",
      "                                                                                                  \n",
      " concatenate (Concatenate)      (None, 510)          0           ['bidirectional[0][0]',          \n",
      "                                                                  'bidirectional_1[0][0]',        \n",
      "                                                                  'input_3[0][0]']                \n",
      "                                                                                                  \n",
      " dense (Dense)                  (None, 50)           25550       ['concatenate[0][0]']            \n",
      "                                                                                                  \n",
      " dropout (Dropout)              (None, 50)           0           ['dense[0][0]']                  \n",
      "                                                                                                  \n",
      " dense_1 (Dense)                (None, 1)            51          ['dropout[0][0]']                \n",
      "                                                                                                  \n",
      "==================================================================================================\n",
      "Total params: 1,800,967,601\n",
      "Trainable params: 967,601\n",
      "Non-trainable params: 1,800,000,000\n",
      "__________________________________________________________________________________________________\n"
     ]
    }
   ],
   "source": [
    "#input_title\n",
    "title_input = k.layers.Input(shape=(max_tokens_title,))\n",
    "inp = k.layers.Embedding(input_dim=3000000,output_dim=300,trainable=False)(title_input)\n",
    "x1 = k.layers.Bidirectional(k.layers.LSTM(50))(inp)\n",
    "\n",
    "\n",
    "#input_Text\n",
    "content_input = k.layers.Input(shape=(max_tokens_text,))\n",
    "inp2 = k.layers.Embedding(input_dim=3000000,output_dim=300,trainable=False)(content_input)\n",
    "x2 = k.layers.Bidirectional(k.layers.LSTM(200))(inp2)\n",
    "\n",
    "#input_sentiments\n",
    "x3 = k.layers.Input(shape=(10,))\n",
    "\n",
    "\n",
    "#Merge\n",
    "# x = k.layers.concatenate([x1, x2])\n",
    "x = k.layers.concatenate([x1, x2, x3])\n",
    "\n",
    "\n",
    "#Common part\n",
    "x = k.layers.Dense(50, activation='relu')(x)\n",
    "x = k.layers.Dropout(0.2)(x)\n",
    "\n",
    "out = k.layers.Dense(1, activation='sigmoid')(x)\n",
    "\n",
    "#Build model\n",
    "# baseline_model = k.models.Model(inputs=[title_input, content_input], outputs=[out])\n",
    "baseline_model = k.models.Model(inputs=[title_input, content_input,x3], outputs=[out])\n",
    "baseline_model.compile(optimizer='adam', loss='binary_crossentropy', metrics=['acc'])\n",
    "\n",
    "baseline_model.summary()"
   ]
  },
  {
   "cell_type": "code",
   "execution_count": 12,
   "metadata": {},
   "outputs": [
    {
     "name": "stdout",
     "output_type": "stream",
     "text": [
      "Epoch 1/3\n",
      "197/197 [==============================] - 4406s 22s/step - loss: 0.5033 - acc: 0.7481 - val_loss: 0.3561 - val_acc: 0.8323\n",
      "Epoch 2/3\n",
      "197/197 [==============================] - 4387s 22s/step - loss: 0.2885 - acc: 0.8770 - val_loss: 0.2816 - val_acc: 0.8796\n"
     ]
    }
   ],
   "source": [
    "history = baseline_model.fit(x=train_fit, y=np.asarray(y_train.tolist()), batch_size = 64,\n",
    "        callbacks = [k.callbacks.EarlyStopping(monitor='val_loss', patience=1,min_delta = 0.1)], \n",
    "                            validation_data=(valid_fit, np.array(y_valid.tolist())), epochs = 3)"
   ]
  },
  {
   "cell_type": "code",
   "execution_count": 13,
   "metadata": {},
   "outputs": [
    {
     "name": "stdout",
     "output_type": "stream",
     "text": [
      "              precision    recall  f1-score   support\n",
      "\n",
      "           0       0.87      0.96      0.91      2354\n",
      "           1       0.93      0.79      0.85      1581\n",
      "\n",
      "    accuracy                           0.89      3935\n",
      "   macro avg       0.90      0.88      0.88      3935\n",
      "weighted avg       0.90      0.89      0.89      3935\n",
      "\n"
     ]
    }
   ],
   "source": [
    "test_pred = baseline_model.predict(test_fit)\n",
    "report = classification_report(np.array(y_test.tolist()), test_pred.round())\n",
    "print(report)"
   ]
  },
  {
   "cell_type": "code",
   "execution_count": 14,
   "metadata": {},
   "outputs": [
    {
     "name": "stdout",
     "output_type": "stream",
     "text": [
      "The accuracy for testing data is 0.5310763050782329\n"
     ]
    }
   ],
   "source": [
    "print(\"The accuracy for testing data is\", np.mean(test_pred.round() == np.array(y_test.tolist())))"
   ]
  },
  {
   "cell_type": "code",
   "execution_count": 15,
   "metadata": {},
   "outputs": [
    {
     "data": {
      "text/plain": [
       "<matplotlib.legend.Legend at 0x7f5ab47b5220>"
      ]
     },
     "execution_count": 15,
     "metadata": {},
     "output_type": "execute_result"
    },
    {
     "data": {
      "image/png": "[encoded data removed]",
      "text/plain": [
       "<Figure size 1152x360 with 1 Axes>"
      ]
     },
     "metadata": {
      "needs_background": "light"
     },
     "output_type": "display_data"
    }
   ],
   "source": [
    "plt.figure(figsize=(16,5))\n",
    "plt.plot(history.history['val_acc'], label='val_acc')\n",
    "plt.plot(history.history['acc'], label='train_acc')\n",
    "plt.legend()"
   ]
  },
  {
   "cell_type": "code",
   "execution_count": 16,
   "metadata": {},
   "outputs": [
    {
     "data": {
      "text/plain": [
       "<matplotlib.legend.Legend at 0x7f5ab43c0460>"
      ]
     },
     "execution_count": 16,
     "metadata": {},
     "output_type": "execute_result"
    },
    {
     "data": {
      "image/png": "[encoded data removed]",
      "text/plain": [
       "<Figure size 1152x432 with 1 Axes>"
      ]
     },
     "metadata": {
      "needs_background": "light"
     },
     "output_type": "display_data"
    }
   ],
   "source": [
    "plt.figure(figsize=(16,6))\n",
    "plt.plot(history.history['val_loss'], label='val_loss')\n",
    "plt.plot(history.history['loss'], label='train_loss')\n",
    "plt.legend()"
   ]
  },
  {
   "cell_type": "code",
   "execution_count": 19,
   "metadata": {},
   "outputs": [
    {
     "name": "stdout",
     "output_type": "stream",
     "text": [
      "[[2259   95]\n",
      " [ 331 1250]]\n"
     ]
    },
    {
     "data": {
      "text/plain": [
       "<AxesSubplot:>"
      ]
     },
     "execution_count": 19,
     "metadata": {},
     "output_type": "execute_result"
    },
    {
     "data": {
      "image/png": "[encoded data removed]",
      "text/plain": [
       "<Figure size 432x288 with 2 Axes>"
      ]
     },
     "metadata": {
      "needs_background": "light"
     },
     "output_type": "display_data"
    }
   ],
   "source": [
    "matrix = confusion_matrix(np.array(y_test.tolist()), test_pred.round())\n",
    "print(matrix)\n",
    "\n",
    "df_cm = pd.DataFrame(matrix, columns=['fake', 'real'], index=['fake', 'real'])\n",
    "sns.heatmap(df_cm, annot=True)"
   ]
  },
  {
   "cell_type": "markdown",
   "metadata": {},
   "source": [
    "## CNN"
   ]
  },
  {
   "cell_type": "code",
   "execution_count": 20,
   "metadata": {},
   "outputs": [],
   "source": [
    "seed(50)\n",
    "tf.random.set_seed(50)\n",
    "k.backend.clear_session()"
   ]
  },
  {
   "cell_type": "code",
   "execution_count": 21,
   "metadata": {},
   "outputs": [
    {
     "name": "stdout",
     "output_type": "stream",
     "text": [
      "Model: \"model\"\n",
      "__________________________________________________________________________________________________\n",
      " Layer (type)                   Output Shape         Param #     Connected to                     \n",
      "==================================================================================================\n",
      " input_1 (InputLayer)           [(None, 48)]         0           []                               \n",
      "                                                                                                  \n",
      " input_2 (InputLayer)           [(None, 13000)]      0           []                               \n",
      "                                                                                                  \n",
      " embedding (Embedding)          (None, 48, 300)      900000000   ['input_1[0][0]']                \n",
      "                                                                                                  \n",
      " embedding_1 (Embedding)        (None, 13000, 300)   900000000   ['input_2[0][0]']                \n",
      "                                                                                                  \n",
      " conv1d (Conv1D)                (None, 24, 32)       19232       ['embedding[0][0]']              \n",
      "                                                                                                  \n",
      " conv1d_1 (Conv1D)              (None, 6499, 64)     76864       ['embedding_1[0][0]']            \n",
      "                                                                                                  \n",
      " max_pooling1d (MaxPooling1D)   (None, 12, 32)       0           ['conv1d[0][0]']                 \n",
      "                                                                                                  \n",
      " max_pooling1d_1 (MaxPooling1D)  (None, 1624, 64)    0           ['conv1d_1[0][0]']               \n",
      "                                                                                                  \n",
      " input_3 (InputLayer)           [(None, 10)]         0           []                               \n",
      "                                                                                                  \n",
      " flatten (Flatten)              (None, 384)          0           ['max_pooling1d[0][0]']          \n",
      "                                                                                                  \n",
      " flatten_1 (Flatten)            (None, 103936)       0           ['max_pooling1d_1[0][0]']        \n",
      "                                                                                                  \n",
      " flatten_2 (Flatten)            (None, 10)           0           ['input_3[0][0]']                \n",
      "                                                                                                  \n",
      " dense (Dense)                  (None, 50)           19250       ['flatten[0][0]']                \n",
      "                                                                                                  \n",
      " dense_1 (Dense)                (None, 100)          10393700    ['flatten_1[0][0]']              \n",
      "                                                                                                  \n",
      " dense_2 (Dense)                (None, 10)           110         ['flatten_2[0][0]']              \n",
      "                                                                                                  \n",
      " concatenate (Concatenate)      (None, 160)          0           ['dense[0][0]',                  \n",
      "                                                                  'dense_1[0][0]',                \n",
      "                                                                  'dense_2[0][0]']                \n",
      "                                                                                                  \n",
      " dropout (Dropout)              (None, 160)          0           ['concatenate[0][0]']            \n",
      "                                                                                                  \n",
      " dense_3 (Dense)                (None, 50)           8050        ['dropout[0][0]']                \n",
      "                                                                                                  \n",
      " dropout_1 (Dropout)            (None, 50)           0           ['dense_3[0][0]']                \n",
      "                                                                                                  \n",
      " dense_4 (Dense)                (None, 1)            51          ['dropout_1[0][0]']              \n",
      "                                                                                                  \n",
      "==================================================================================================\n",
      "Total params: 1,810,517,257\n",
      "Trainable params: 10,517,257\n",
      "Non-trainable params: 1,800,000,000\n",
      "__________________________________________________________________________________________________\n"
     ]
    }
   ],
   "source": [
    "#input_title\n",
    "title_input = k.layers.Input(shape=(max_tokens_title,))\n",
    "inp1 = k.layers.Embedding(input_dim=3000000,output_dim=300,trainable=False)(title_input)\n",
    "\n",
    "x1 = k.layers.Conv1D(filters = 32, kernel_size=2, strides=2, activation='relu')(inp1)\n",
    "x1 = k.layers.MaxPool1D(pool_size = 2)(x1)\n",
    "x1 = k.layers.Flatten()(x1)\n",
    "x1 = k.layers.Dense(50, activation='relu', kernel_regularizer='l2')(x1)\n",
    "\n",
    "\n",
    "#input_Text\n",
    "text_input = k.layers.Input(shape=(max_tokens_text,))\n",
    "inp2 = k.layers.Embedding(input_dim=3000000,output_dim=300,trainable=False)(text_input)\n",
    "\n",
    "\n",
    "x2 = k.layers.Conv1D(filters = 64, kernel_size = 4, strides = 2, activation='relu')(inp2)\n",
    "x2 = k.layers.MaxPool1D(pool_size = 4)(x2)\n",
    "\n",
    "\n",
    "x2 = k.layers.Flatten()(x2)\n",
    "x2 = k.layers.Dense(100, activation='relu', kernel_regularizer='l2')(x2)\n",
    "\n",
    "\n",
    "#Sentiments-------------------------------------------------------------------------------------------------------\n",
    "\n",
    "sentiment_input = k.layers.Input(shape=(10,))\n",
    "x3 = k.layers.Flatten()(sentiment_input)\n",
    "x3= k.layers.Dense(10, activation='relu', kernel_regularizer='l2')(x3)\n",
    "\n",
    "#Merge-------------------------------------------------------------------------------------------------------------\n",
    "# x = k.layers.concatenate([x1,x2])\n",
    "x = k.layers.concatenate([x1,x2,x3])\n",
    "x = k.layers.Dropout(0.2)(x)\n",
    "\n",
    "#Common part-------------------------------------------------------------------------------------------------------\n",
    "x = k.layers.Dense(50, activation='relu')(x)\n",
    "x = k.layers.Dropout(0.2)(x)\n",
    "out = k.layers.Dense(1, activation='sigmoid')(x)\n",
    "\n",
    "\n",
    "#Build model\n",
    "# model1 = k.models.Model(inputs=[title_input, text_input], outputs=[out])\n",
    "model1 = k.models.Model(inputs=[title_input, text_input,sentiment_input], outputs=[out])\n",
    "\n",
    "model1.compile(k.optimizers.RMSprop(), loss='binary_crossentropy', metrics=['acc'])\n",
    "# model1.compile(loss='categorical_crossentropy',\n",
    "#               optimizer=sgd,\n",
    "#               metrics=['acc'])\n",
    "\n",
    "model1.summary()"
   ]
  },
  {
   "cell_type": "markdown",
   "metadata": {},
   "source": [
    "## Fitting the model"
   ]
  },
  {
   "cell_type": "code",
   "execution_count": 22,
   "metadata": {},
   "outputs": [
    {
     "name": "stdout",
     "output_type": "stream",
     "text": [
      "Epoch 1/30\n",
      "197/197 [==============================] - 225s 1s/step - loss: 0.8137 - acc: 0.7358 - val_loss: 0.5044 - val_acc: 0.8351\n",
      "Epoch 2/30\n",
      "197/197 [==============================] - 221s 1s/step - loss: 0.4537 - acc: 0.8601 - val_loss: 0.4143 - val_acc: 0.8774\n",
      "Epoch 3/30\n",
      "197/197 [==============================] - 219s 1s/step - loss: 0.3624 - acc: 0.8976 - val_loss: 0.3346 - val_acc: 0.9082\n",
      "Epoch 4/30\n",
      "197/197 [==============================] - 219s 1s/step - loss: 0.2915 - acc: 0.9295 - val_loss: 0.2788 - val_acc: 0.9298\n",
      "Epoch 5/30\n",
      "197/197 [==============================] - 219s 1s/step - loss: 0.2403 - acc: 0.9507 - val_loss: 0.2583 - val_acc: 0.9374\n",
      "Epoch 6/30\n",
      "197/197 [==============================] - 220s 1s/step - loss: 0.2027 - acc: 0.9649 - val_loss: 0.2714 - val_acc: 0.9358\n",
      "CPU times: user 4h 14min 26s, sys: 1h 11min 1s, total: 5h 25min 27s\n",
      "Wall time: 22min 3s\n"
     ]
    }
   ],
   "source": [
    "%%time\n",
    "history = model1.fit(x=train_fit, y=np.asarray(y_train.tolist()), batch_size=64, epochs=30,\n",
    "        callbacks = [k.callbacks.EarlyStopping(monitor='val_loss', patience=3,min_delta = 0.1)], \n",
    "        validation_data=(valid_fit, np.array(y_valid.tolist()))\n",
    "        )"
   ]
  },
  {
   "cell_type": "markdown",
   "metadata": {},
   "source": [
    "## Results"
   ]
  },
  {
   "cell_type": "code",
   "execution_count": 23,
   "metadata": {},
   "outputs": [
    {
     "name": "stdout",
     "output_type": "stream",
     "text": [
      "              precision    recall  f1-score   support\n",
      "\n",
      "           0       0.93      0.97      0.95      2354\n",
      "           1       0.96      0.89      0.92      1581\n",
      "\n",
      "    accuracy                           0.94      3935\n",
      "   macro avg       0.94      0.93      0.94      3935\n",
      "weighted avg       0.94      0.94      0.94      3935\n",
      "\n"
     ]
    }
   ],
   "source": [
    "test_pred = model1.predict(test_fit)\n",
    "report = classification_report(np.array(y_test.tolist()), test_pred.round())\n",
    "print(report)"
   ]
  },
  {
   "cell_type": "code",
   "execution_count": 24,
   "metadata": {},
   "outputs": [
    {
     "name": "stdout",
     "output_type": "stream",
     "text": [
      "The accuracy for testing data is 0.5245365525236168\n"
     ]
    }
   ],
   "source": [
    "print(\"The accuracy for testing data is\", np.mean(test_pred.round() == np.array(y_test.tolist())))"
   ]
  },
  {
   "cell_type": "code",
   "execution_count": 25,
   "metadata": {},
   "outputs": [
    {
     "data": {
      "text/plain": [
       "<matplotlib.legend.Legend at 0x7f5a901ca580>"
      ]
     },
     "execution_count": 25,
     "metadata": {},
     "output_type": "execute_result"
    },
    {
     "data": {
      "image/png": "[encoded data removed]",
      "text/plain": [
       "<Figure size 1152x360 with 1 Axes>"
      ]
     },
     "metadata": {
      "needs_background": "light"
     },
     "output_type": "display_data"
    }
   ],
   "source": [
    "plt.figure(figsize=(16,5))\n",
    "plt.plot(history.history['val_acc'], label='val_acc')\n",
    "plt.plot(history.history['acc'], label='train_acc')\n",
    "plt.legend()"
   ]
  },
  {
   "cell_type": "code",
   "execution_count": 26,
   "metadata": {},
   "outputs": [
    {
     "data": {
      "text/plain": [
       "<matplotlib.legend.Legend at 0x7f5a900ddb80>"
      ]
     },
     "execution_count": 26,
     "metadata": {},
     "output_type": "execute_result"
    },
    {
     "data": {
      "image/png": "[encoded data removed]",
      "text/plain": [
       "<Figure size 1152x432 with 1 Axes>"
      ]
     },
     "metadata": {
      "needs_background": "light"
     },
     "output_type": "display_data"
    }
   ],
   "source": [
    "plt.figure(figsize=(16,6))\n",
    "plt.plot(history.history['val_loss'], label='val_loss')\n",
    "plt.plot(history.history['loss'], label='train_loss')\n",
    "plt.legend()"
   ]
  },
  {
   "cell_type": "code",
   "execution_count": 27,
   "metadata": {},
   "outputs": [
    {
     "name": "stdout",
     "output_type": "stream",
     "text": [
      "[[2289   65]\n",
      " [ 170 1411]]\n"
     ]
    },
    {
     "data": {
      "text/plain": [
       "<AxesSubplot:>"
      ]
     },
     "execution_count": 27,
     "metadata": {},
     "output_type": "execute_result"
    },
    {
     "data": {
      "image/png": "[encoded data removed]",
      "text/plain": [
       "<Figure size 432x288 with 2 Axes>"
      ]
     },
     "metadata": {
      "needs_background": "light"
     },
     "output_type": "display_data"
    }
   ],
   "source": [
    "matrix = confusion_matrix(np.array(y_test.tolist()), test_pred.round())\n",
    "print(matrix)\n",
    "\n",
    "df_cm = pd.DataFrame(matrix, columns=['fake', 'real'], index=['fake', 'real'])\n",
    "sns.heatmap(df_cm, annot=True,cmap ='plasma', linecolor ='black', linewidths = 1)"
   ]
  },
  {
   "cell_type": "markdown",
   "metadata": {},
   "source": [
    "## Cross_entrophy CNN"
   ]
  },
  {
   "cell_type": "code",
   "execution_count": 28,
   "metadata": {},
   "outputs": [],
   "source": [
    "# seed(50)\n",
    "# tf.random.set_seed(50)\n",
    "# k.backend.clear_session()"
   ]
  },
  {
   "cell_type": "code",
   "execution_count": null,
   "metadata": {},
   "outputs": [],
   "source": [
    "# #input_title\n",
    "# title_input = k.layers.Input(shape=(max_tokens_title,))\n",
    "# inp1 = k.layers.Embedding(input_dim=3000000,output_dim=300,trainable=False)(title_input)\n",
    "\n",
    "# x1 = k.layers.Conv1D(filters = 32, kernel_size=4, strides=2, activation='relu')(inp1)\n",
    "# x1 = k.layers.MaxPool1D(pool_size = 2)(x1)\n",
    "# x1 = k.layers.Flatten()(x1)\n",
    "# x1 = k.layers.Dense(50, activation='relu',  kernel_regularizer='l2')(x1)\n",
    "\n",
    "# #input_content\n",
    "# text_input = k.layers.Input(shape=(max_tokens_text,))\n",
    "# inp2 = k.layers.Embedding(input_dim=3000000,output_dim=300,trainable=False)(text_input)\n",
    "\n",
    "# x2 = k.layers.Conv1D(filters = 64, kernel_size = 4, strides = 2, activation='relu')(inp2)\n",
    "# x2 = k.layers.MaxPool1D(pool_size = 4 )(x2)\n",
    "\n",
    "# #Added\n",
    "# # x2 = k.layers.Conv1D(filters = 80, kernel_size = 16, strides = 4, activation='relu')(inp2)\n",
    "# # x2 = k.layers.MaxPool1D(pool_size = 4, )(x2)\n",
    "# x2 = k.layers.Flatten()(x2)\n",
    "# x2 = k.layers.Dense(100, activation='relu', kernel_regularizer='l2')(x2)\n",
    "\n",
    "# sentiment_input = k.layers.Input(shape=(10,))\n",
    "# x3 = k.layers.Flatten()(sentiment_input)\n",
    "# x3= k.layers.Dense(10, activation='relu', kernel_regularizer='l2')(x3)\n",
    "\n",
    "\n",
    "# #Merge\n",
    "# # x = k.layers.concatenate([x1, x2])\n",
    "# x = k.layers.concatenate([x1,x2,x3])\n",
    "# x = k.layers.Dropout(0.2)(x)\n",
    "\n",
    "# #Common part\n",
    "# # x = k.layers.Dense(50, activation='relu')(x)\n",
    "# # x = k.layers.Dropout(0.2)(x)\n",
    "# x = k.layers.Dense(50, activation='relu')(x)\n",
    "# x = k.layers.Dropout(0.2)(x)\n",
    "# out = k.layers.Dense(5, activation='softmax')(x)\n",
    "\n",
    "\n",
    "# #Build model\n",
    "# # model = k.models.Model(inputs=[title_input, text_input], outputs=[out])\n",
    "# model2 = k.models.Model(inputs=[title_input, text_input,sentiment_input], outputs=[out])\n",
    "# model2.compile(k.optimizers.RMSprop(), loss='sparse_categorical_crossentropy', metrics=['acc'])\n",
    "\n",
    "# model2.summary()"
   ]
  },
  {
   "cell_type": "markdown",
   "metadata": {},
   "source": [
    "## Fitting the model"
   ]
  },
  {
   "cell_type": "code",
   "execution_count": null,
   "metadata": {},
   "outputs": [],
   "source": [
    "# history = model2.fit(x=train_fit, y=np.asarray(y_train.tolist()), batch_size=128, epochs=30,\n",
    "#         callbacks = [k.callbacks.EarlyStopping(monitor='val_loss', patience=3,min_delta = 0.1)], \n",
    "#         validation_data=(valid_fit, np.array(y_valid.tolist())))"
   ]
  },
  {
   "cell_type": "code",
   "execution_count": null,
   "metadata": {},
   "outputs": [],
   "source": [
    "# test_pred = model2.predict(test_fit)\n",
    "\n",
    "# #get predicted indices (ValueError: Classification metrics can't handle a mix of binary and continuous-multioutput targets)\n",
    "# test_pred = np.argmax(test_pred, 1)\n",
    "\n",
    "# report = classification_report(np.array(y_test.tolist()), test_pred.round())\n",
    "# print(report)"
   ]
  },
  {
   "cell_type": "code",
   "execution_count": null,
   "metadata": {},
   "outputs": [],
   "source": [
    "# print(\"The accuracy for testing data is\", np.mean(test_pred.round() == np.array(y_test.tolist())) )\n",
    "# print(\"The accuracy for training data is\", np.mean(np.argmax(model2.predict(train_fit),1) == np.array(y_train.tolist())) )"
   ]
  },
  {
   "cell_type": "code",
   "execution_count": null,
   "metadata": {},
   "outputs": [],
   "source": [
    "# matrix = confusion_matrix(np.array(y_test.tolist()), test_pred.round())\n",
    "# print(matrix)\n",
    "\n",
    "# df_cm = pd.DataFrame(matrix, columns=['fake', 'real'], index=['fake', 'real'])\n",
    "# sns.heatmap(df_cm, annot=True,cmap ='plasma', linecolor ='black', linewidths = 1)"
   ]
  }
 ],
 "metadata": {
  "interpreter": {
   "hash": "3c0230b97712d87882b3eeba6845e6dc3f3e7571acdedf5897f36f63bc1255a2"
  },
  "kernelspec": {
   "display_name": "Python 3.9.12 ('base')",
   "language": "python",
   "name": "python3"
  },
  "language_info": {
   "codemirror_mode": {
    "name": "ipython",
    "version": 3
   },
   "file_extension": ".py",
   "mimetype": "text/x-python",
   "name": "python",
   "nbconvert_exporter": "python",
   "pygments_lexer": "ipython3",
   "version": "3.9.12"
  },
  "orig_nbformat": 4
 },
 "nbformat": 4,
 "nbformat_minor": 2
}
