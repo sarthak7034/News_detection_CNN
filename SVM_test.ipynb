{
 "cells": [
  {
   "cell_type": "code",
   "execution_count": 2,
   "metadata": {},
   "outputs": [],
   "source": [
    "# Import comet_ml at the top of your file\n",
    "from comet_ml import Experiment\n",
    "\n",
    "from matplotlib import pyplot as plt\n",
    "import pandas as pd\n",
    "import numpy as np\n",
    "import swifter\n",
    "\n",
    "from sklearn.metrics import classification_report,confusion_matrix\n",
    "from sklearn.feature_extraction.text import CountVectorizer\n",
    "from sklearn.feature_extraction.text import TfidfVectorizer\n",
    "from sklearn.model_selection import train_test_split\n",
    "from sklearn import svm\n",
    "import re\n",
    "import nltk\n",
    "from nltk.stem.porter import PorterStemmer\n",
    "from nltk.corpus import stopwords\n",
    "from tensorflow.keras.preprocessing.sequence import pad_sequences\n",
    "from scipy.sparse import coo_matrix, hstack\n",
    "import seaborn as sns\n",
    "\n",
    "port_stem = PorterStemmer()"
   ]
  },
  {
   "cell_type": "code",
   "execution_count": 7,
   "metadata": {},
   "outputs": [],
   "source": [
    "#Read dataset\n",
    "train = pd.read_csv(\"./COVID19/Constraint_English_Train.csv\").drop(\"id\", axis=1)\n",
    "Val = pd.read_csv(\"./COVID19/Constraint_English_Val.csv\").drop(\"id\", axis=1)"
   ]
  },
  {
   "cell_type": "code",
   "execution_count": 17,
   "metadata": {},
   "outputs": [],
   "source": [
    "df = pd.concat([train, Val])"
   ]
  },
  {
   "cell_type": "code",
   "execution_count": 18,
   "metadata": {},
   "outputs": [
    {
     "name": "stdout",
     "output_type": "stream",
     "text": [
      "                                                  tweet label\n",
      "0     Our daily update is published. States reported...  real\n",
      "1     About 50% of patients with #T1D + #COVID19 req...  real\n",
      "2     Tanzanian club spokesman Haji S. Manara was in...  fake\n",
      "3     Italian doctor couple diagnosed with coronavirus.  fake\n",
      "4     Sadly today there are four people in hospital ...  real\n",
      "...                                                 ...   ...\n",
      "8555  Due to COVID-19 restrictions, the United Kingd...  fake\n",
      "8556  FDA Urges More Coronavirus Testing so that Tre...  fake\n",
      "8557  RT @PIB_India: The cases per million in the co...  real\n",
      "8558  US Medical Experts Are Puzzled As To Why The U...  fake\n",
      "8559  #COVID19 is primarily spread through respirato...  real\n",
      "\n",
      "[8560 rows x 2 columns]\n"
     ]
    }
   ],
   "source": [
    "from sklearn.utils import shuffle\n",
    "\n",
    "# Purify\n",
    "df = df.iloc[:,[0, -1]]\n",
    "\n",
    "# Shuffle\n",
    "df = shuffle(df).reset_index(drop=True)\n",
    "\n",
    "print(df)"
   ]
  },
  {
   "cell_type": "code",
   "execution_count": 16,
   "metadata": {},
   "outputs": [
    {
     "name": "stderr",
     "output_type": "stream",
     "text": [
      "[nltk_data] Downloading package punkt to\n",
      "[nltk_data]     /home/users/s/sarthak_7034/nltk_data...\n",
      "[nltk_data]   Package punkt is already up-to-date!\n",
      "[nltk_data] Downloading package stopwords to\n",
      "[nltk_data]     /home/users/s/sarthak_7034/nltk_data...\n",
      "[nltk_data]   Package stopwords is already up-to-date!\n"
     ]
    }
   ],
   "source": [
    "nltk.download('punkt')\n",
    "nltk.download('stopwords')\n",
    "stop_words = stopwords.words('english') \n",
    "\n",
    "def clean_text(doc):\n",
    "    \n",
    "    # remove punctuation\n",
    "    doc = re.sub(r\"[\\s+\\.\\!\\/_,|%^*#(+\\\"\\')?<>:-]\", \" \", doc)\n",
    "    \n",
    "    # remove @\n",
    "    pattern2 = r\"@\\S+\"\n",
    "    doc = re.sub(pattern2, \"\", doc)\n",
    "\n",
    "    # tokenization\n",
    "    tokens = nltk.word_tokenize(doc)\n",
    "    \n",
    "    # lower words\n",
    "    tokens = [word.lower() for word in tokens]\n",
    "    \n",
    "    # remove stopwords\n",
    "    tokens = [w for w in tokens if not w in stop_words] \n",
    "    \n",
    "    # Return a cleaned string or list\n",
    "    return\" \".join(tokens)"
   ]
  },
  {
   "cell_type": "code",
   "execution_count": 19,
   "metadata": {},
   "outputs": [
    {
     "data": {
      "application/vnd.jupyter.widget-view+json": {
       "model_id": "ed33b5cc43c74e698a014c9f1a95237c",
       "version_major": 2,
       "version_minor": 0
      },
      "text/plain": [
       "Dask Apply:   0%|          | 0/80 [00:00<?, ?it/s]"
      ]
     },
     "metadata": {},
     "output_type": "display_data"
    }
   ],
   "source": [
    "#Applying lamdba function to clean text\n",
    "df['tweet'] = df.swifter.apply(lambda row: clean_text(row['tweet']), axis=1)"
   ]
  },
  {
   "cell_type": "code",
   "execution_count": 27,
   "metadata": {},
   "outputs": [],
   "source": [
    "MAX_FEATURES = 5000\n",
    "\n",
    "#Assign the type of vectorizer\n",
    "VECTORIZER = 'tfidf'\n",
    "\n",
    "def fit_tfidf(documents):\n",
    "    tfidf = TfidfVectorizer(input = 'content', stop_words = 'english',  \n",
    "                            max_features = MAX_FEATURES )\n",
    "    tfidf.fit(documents.values)\n",
    "    return tfidf\n",
    "\n",
    "\n",
    "# def fit_bow(documents):\n",
    "#     bow = CountVectorizer(input='content', stop_words='english',\n",
    "#                           max_features = MAX_FEATURES)\n",
    "#     bow.fit(documents.values)\n",
    "#     return bow\n",
    "\n",
    "if VECTORIZER == 'tfidf':\n",
    "    vectorizer = fit_tfidf(df['tweet'])\n",
    "\n",
    "# elif VECTORIZER == 'bow':\n",
    "#     vectorizer = fit_bow(corpus)\n",
    "\n",
    "X = vectorizer.transform(df['tweet'])"
   ]
  },
  {
   "cell_type": "code",
   "execution_count": 36,
   "metadata": {},
   "outputs": [
    {
     "name": "stdout",
     "output_type": "stream",
     "text": [
      "(6848, 5000)\n",
      "(1712, 5000)\n",
      "(6848,)\n",
      "(1712,)\n"
     ]
    }
   ],
   "source": [
    "y = df['label']\n",
    "\n",
    "#Train - test\n",
    "X_train, X_test, y_train, y_test = train_test_split(\n",
    "     X, y, test_size=0.2, random_state=42)\n",
    "\n",
    "print(X_train.shape)\n",
    "print(X_test.shape)\n",
    "print(y_train.shape)\n",
    "print(y_test.shape)     "
   ]
  },
  {
   "cell_type": "code",
   "execution_count": 37,
   "metadata": {},
   "outputs": [
    {
     "data": {
      "text/plain": [
       "SVC(kernel='linear', random_state=0)"
      ]
     },
     "execution_count": 37,
     "metadata": {},
     "output_type": "execute_result"
    }
   ],
   "source": [
    "classifier = svm.SVC(kernel='linear', random_state= 0)\n",
    "classifier.fit(X_train,y_train)"
   ]
  },
  {
   "cell_type": "code",
   "execution_count": 38,
   "metadata": {},
   "outputs": [],
   "source": [
    "predict = classifier.predict(X_test)"
   ]
  },
  {
   "cell_type": "code",
   "execution_count": 39,
   "metadata": {},
   "outputs": [
    {
     "name": "stdout",
     "output_type": "stream",
     "text": [
      "The classification report is:\n",
      "              precision    recall  f1-score   support\n",
      "\n",
      "        fake       0.93      0.93      0.93       849\n",
      "        real       0.93      0.93      0.93       863\n",
      "\n",
      "    accuracy                           0.93      1712\n",
      "   macro avg       0.93      0.93      0.93      1712\n",
      "weighted avg       0.93      0.93      0.93      1712\n",
      "\n",
      "The accuracy for testing data is 0.9281542056074766\n",
      "The accuracy for training data is 0.981892523364486\n"
     ]
    }
   ],
   "source": [
    "print(\"The classification report is:\")\n",
    "print(classification_report(y_test, predict))\n",
    "\n",
    "print(\"The accuracy for testing data is\", np.mean(predict == y_test) )\n",
    "print(\"The accuracy for training data is\", np.mean(classifier.predict(X_train) == y_train) )"
   ]
  },
  {
   "cell_type": "code",
   "execution_count": 40,
   "metadata": {},
   "outputs": [
    {
     "data": {
      "text/plain": [
       "<AxesSubplot:>"
      ]
     },
     "execution_count": 40,
     "metadata": {},
     "output_type": "execute_result"
    },
    {
     "data": {
      "image/png": "[encoded data removed]",
      "text/plain": [
       "<Figure size 432x432 with 2 Axes>"
      ]
     },
     "metadata": {
      "needs_background": "light"
     },
     "output_type": "display_data"
    }
   ],
   "source": [
    "# Confusion Matrix of SVM\n",
    "cm = confusion_matrix(y_test, predict)\n",
    "plt.figure(figsize = (6, 6))\n",
    "sns.heatmap(cm, annot = True,cmap ='plasma', linecolor ='black', linewidths = 1)"
   ]
  }
 ],
 "metadata": {
  "interpreter": {
   "hash": "3c0230b97712d87882b3eeba6845e6dc3f3e7571acdedf5897f36f63bc1255a2"
  },
  "kernelspec": {
   "display_name": "Python 3.9.7 ('base': conda)",
   "language": "python",
   "name": "python3"
  },
  "language_info": {
   "codemirror_mode": {
    "name": "ipython",
    "version": 3
   },
   "file_extension": ".py",
   "mimetype": "text/x-python",
   "name": "python",
   "nbconvert_exporter": "python",
   "pygments_lexer": "ipython3",
   "version": "3.9.7"
  },
  "orig_nbformat": 4
 },
 "nbformat": 4,
 "nbformat_minor": 2
}
